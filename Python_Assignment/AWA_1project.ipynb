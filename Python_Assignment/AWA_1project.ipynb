{
 "cells": [
  {
   "cell_type": "markdown",
   "id": "3fc30810",
   "metadata": {},
   "source": [
    "### Python Assignment -  Variables, Operators, and Type Casting "
   ]
  },
  {
   "cell_type": "raw",
   "id": "44d7595b",
   "metadata": {},
   "source": [
    "Name - Vaibhav Limkar \n",
    "Date - 03/09/2024"
   ]
  },
  {
   "cell_type": "markdown",
   "id": "9fc6d7fd",
   "metadata": {},
   "source": [
    "<mark> 1. Understanding Variables \n",
    "\n",
    "a. Define a variable in Python. Provide an example of how to create a variable that \n",
    "stores your name. \n",
    "b. What is the difference between a variable and a constant? Can we have constants in \n",
    "Python? </mark>"
   ]
  },
  {
   "cell_type": "raw",
   "id": "b736f8a4",
   "metadata": {},
   "source": [
    "Ans a)  1 - Variables are containers for storing data values.\n",
    "        2 - In Python - We do not need to declare variables before using them or declare their type\n",
    "        3 - One Variable can store multiple value \n",
    "        4 - Variables can be reassigned to new values, even of a different data type.\n",
    "        5 - Variable store their data in RAM which volatile means it\n",
    "        Note - Variables in Python are created the moment you first assign a value to them. You use                  the = operator to assign values to variables."
   ]
  },
  {
   "cell_type": "code",
   "execution_count": 3,
   "id": "ff1ff905",
   "metadata": {},
   "outputs": [
    {
     "name": "stdout",
     "output_type": "stream",
     "text": [
      "Vaibhav\n"
     ]
    }
   ],
   "source": [
    "Var_1 = \"Vaibhav\"  #Var_1 is a Variable which store Data and Here Data is Vaibhav\n",
    "print(Var_1)       #Here we are printing Data inside Var_1\n"
   ]
  },
  {
   "cell_type": "code",
   "execution_count": 5,
   "id": "282aea70",
   "metadata": {},
   "outputs": [
    {
     "name": "stdout",
     "output_type": "stream",
     "text": [
      "('Vaibhav', 'Python', 'Data')\n"
     ]
    }
   ],
   "source": [
    "Var_1 = \"Vaibhav\",\"Python\",\"Data\" # In Python Variable can be reassign to a new value as mention in point 4\n",
    "print(Var_1)                      # As mention in point no.4 and we can assign multiple value \n"
   ]
  },
  {
   "cell_type": "markdown",
   "id": "d89262f5",
   "metadata": {},
   "source": [
    "<mark>b. What is the difference between a variable and a constant? Can we have constants in Python </mark>"
   ]
  },
  {
   "cell_type": "code",
   "execution_count": 15,
   "id": "2c8b9b2e",
   "metadata": {},
   "outputs": [
    {
     "name": "stdout",
     "output_type": "stream",
     "text": [
      "Vaibhav\n"
     ]
    }
   ],
   "source": [
    "# Variable - Variable is used to store data and we can reassign a new value to variable \n",
    "Data = \"Vaibhav\"\n",
    "print(Data)"
   ]
  },
  {
   "cell_type": "code",
   "execution_count": 16,
   "id": "e31ccf69",
   "metadata": {},
   "outputs": [
    {
     "name": "stdout",
     "output_type": "stream",
     "text": [
      "3.14\n"
     ]
    }
   ],
   "source": [
    "# Constant - Constant is used to store data and we can't change the value inside throught out the program \n",
    "#             and Constant is not applicable in Python but developer use Variable in uppercase to mention that \n",
    "#             it is not allow to change a value in that variable \n",
    "\n",
    "PI = 3.14 # Here PI is just used variable not constant variable but if needed we can write in comment \n",
    "print(PI) # Mention it as Constant variable and not to change data under that Variable "
   ]
  },
  {
   "cell_type": "markdown",
   "id": "7312ea5c",
   "metadata": {},
   "source": [
    "## Working with Different Data Types"
   ]
  },
  {
   "cell_type": "raw",
   "id": "331b3f87",
   "metadata": {},
   "source": [
    "Different Data Type \n",
    "a. Create variables of the following types in Python: \n",
    "1. Integer \n",
    "2. Float \n",
    "3. String \n",
    "4. Boolean "
   ]
  },
  {
   "cell_type": "code",
   "execution_count": 24,
   "id": "b4c98097",
   "metadata": {},
   "outputs": [
    {
     "name": "stdout",
     "output_type": "stream",
     "text": [
      "<class 'int'>\n",
      "<class 'float'>\n",
      "<class 'str'>\n",
      "<class 'bool'>\n",
      "<class 'bool'>\n"
     ]
    }
   ],
   "source": [
    "# Integer - First_Value(variable) store a int datatype and we get the datatype using inbuilt function type\n",
    "First_Value = 5\n",
    "print(type(First_Value))\n",
    "\n",
    "# Float - Second_Value(variable) store a float data and we get the datatype using inbuilt function type\n",
    "Second_Value = 3.14\n",
    "print(type(Second_Value))\n",
    "\n",
    "# String - String is used to store data in text and mention in single,double and triple quote\n",
    "Third_Value = \"Vaibhav\"\n",
    "print(type(Third_Value))\n",
    "\n",
    "# Boolean - Boolean is used to store data in True/False and intenally represent True = 1 and False = 2\n",
    "Fourth_Value = True\n",
    "print(type(Fourth_Value))\n",
    "\n",
    "Fifth_Value = False\n",
    "print(type(Fifth_Value))"
   ]
  },
  {
   "cell_type": "markdown",
   "id": "ad365623",
   "metadata": {},
   "source": [
    "## 3 - Arithmetic Operators \n",
    "a. Explain the following arithmetic operators with examples: \n",
    "1. Addition (`+`) \n",
    "2. Subtraction (`-`) \n",
    "3. Multiplication (``) \n",
    "4. Division (`/`) \n",
    "5. Floor Division (`//`) \n",
    "6. Modulus (`%`) \n",
    "7. Exponentiation (``) "
   ]
  },
  {
   "cell_type": "code",
   "execution_count": 32,
   "id": "f48f4541",
   "metadata": {},
   "outputs": [
    {
     "name": "stdout",
     "output_type": "stream",
     "text": [
      "5\n",
      "2\n",
      "15\n",
      "2.5\n",
      "2\n",
      "1\n",
      "8\n"
     ]
    }
   ],
   "source": [
    "# Addition(+) -- (+) symbol is used to add \n",
    "Add = 2+3\n",
    "print(Add)\n",
    "\n",
    "# Subtraction(-) -- (-) symbol is used to subtract \n",
    "Sub = 5-3\n",
    "print(Sub)\n",
    "\n",
    "# Multiplication(*) -- (*) symbol is used to multplication\n",
    "Mul = 3*5\n",
    "print(Mul)\n",
    "\n",
    "# Divison (/) -- (/) symbol is used to do Divison and gives Quotient\n",
    "Div = 5/2\n",
    "print(Div)\n",
    "\n",
    "# Floor Divison (//) - (//) symbol is used to do Division and gives Quotient(Round Down)\n",
    "Div = 5/2\n",
    "print(5//2)\n",
    "\n",
    "# Modulus (%) - (%) symbol is used to used to do Division and gives Remainder\n",
    "Mod = 5%2\n",
    "print(Mod)\n",
    "\n",
    "# Exponentiation (**) - (**) symbol is used to raise to the power(eg - 2 to the Power 3)\n",
    "Exp = 2**3\n",
    "print(Exp)"
   ]
  },
  {
   "cell_type": "raw",
   "id": "99966948",
   "metadata": {},
   "source": [
    "# b. Write a Python script to calculate the area of a rectangle using variables `length` \n",
    "and `width` with values 5 and 10, respectively. Use the multiplication operator. "
   ]
  },
  {
   "cell_type": "code",
   "execution_count": 8,
   "id": "d18f0252",
   "metadata": {},
   "outputs": [
    {
     "name": "stdout",
     "output_type": "stream",
     "text": [
      "Area of Rectangle: 50\n"
     ]
    }
   ],
   "source": [
    "Length = 5                               # Assigning value 5 to Length variable\n",
    "Width = 10                             # Assigning value 10 to Breadth variable\n",
    "Area = Length*Width                    # Calculatig Area using Arthmetic Operator (Multiplication)\n",
    "print(\"Area of Rectangle:\",Area)"
   ]
  },
  {
   "cell_type": "markdown",
   "id": "aa3d1e22",
   "metadata": {},
   "source": [
    "<mark>  4 Comparison and Logical Operators  \n",
    "a. Explain the following comparison operators with examples: \n",
    "1. Equal to (`==`) \n",
    "2. Not equal to (`!=`) \n",
    "3. Greater than (`>`) \n",
    "4. Less than (`<`) \n",
    "5. Greater than or equal to (`>=`) \n",
    "6. Less than or equal to (`<=`) </mark>"
   ]
  },
  {
   "cell_type": "code",
   "execution_count": 12,
   "id": "be34e3f4",
   "metadata": {},
   "outputs": [
    {
     "data": {
      "text/plain": [
       "True"
      ]
     },
     "execution_count": 12,
     "metadata": {},
     "output_type": "execute_result"
    }
   ],
   "source": [
    "# Equal to (==)\n",
    "Num1 = 5\n",
    "Num2 = 10\n",
    "Num1 == Num2 # Checking condition that Num2 is equal to Num1 - If not it will give O/P as False\n"
   ]
  },
  {
   "cell_type": "code",
   "execution_count": 10,
   "id": "97fe9eeb",
   "metadata": {},
   "outputs": [
    {
     "data": {
      "text/plain": [
       "True"
      ]
     },
     "execution_count": 10,
     "metadata": {},
     "output_type": "execute_result"
    }
   ],
   "source": [
    "# Not Equal to (!=)\n",
    "Num3 = 4\n",
    "Num4 = 5\n",
    "Num != Num2     # Checking condition that Num2 is not equal to Num1 - If not it will give O/P as True\n"
   ]
  },
  {
   "cell_type": "code",
   "execution_count": 14,
   "id": "12b23eed",
   "metadata": {},
   "outputs": [
    {
     "data": {
      "text/plain": [
       "True"
      ]
     },
     "execution_count": 14,
     "metadata": {},
     "output_type": "execute_result"
    }
   ],
   "source": [
    "# Greater than (>)\n",
    "Num5 = 105\n",
    "Num6 = 101\n",
    "Num5 > Num6   # Checking condition that Num6 is greater than Num5 - If yes it will give O/P as True\n"
   ]
  },
  {
   "cell_type": "code",
   "execution_count": 15,
   "id": "7264b126",
   "metadata": {},
   "outputs": [
    {
     "data": {
      "text/plain": [
       "True"
      ]
     },
     "execution_count": 15,
     "metadata": {},
     "output_type": "execute_result"
    }
   ],
   "source": [
    "# Less than (<)\n",
    "Num7 = 56\n",
    "Num8 = 89\n",
    "Num7 < Num8   # Checking condition that Num7 is less than Num8 - If yes it will give O/P as True"
   ]
  },
  {
   "cell_type": "code",
   "execution_count": 16,
   "id": "674b876c",
   "metadata": {},
   "outputs": [
    {
     "data": {
      "text/plain": [
       "True"
      ]
     },
     "execution_count": 16,
     "metadata": {},
     "output_type": "execute_result"
    }
   ],
   "source": [
    "# Greater than or equal to (>=)\n",
    "Num9 = 120\n",
    "Num10 = 110\n",
    "Num9 >= Num10  # Checking condition that Num10 is greater than or equal to Num9 - If yes it will give O/P as True"
   ]
  },
  {
   "cell_type": "code",
   "execution_count": 18,
   "id": "78010133",
   "metadata": {},
   "outputs": [
    {
     "name": "stdout",
     "output_type": "stream",
     "text": [
      "True\n"
     ]
    }
   ],
   "source": [
    "# Less than or equal to (<=)\n",
    "Num11 = 103\n",
    "Num12 = 108\n",
    "print(Num11 <= Num12)# Checking condition that Num11 is less than or equal to Num12 - If yes it will give O/P as True"
   ]
  },
  {
   "cell_type": "markdown",
   "id": "5b4e27c6",
   "metadata": {},
   "source": [
    "<mark> b. Using logical operators (`and`, `or`, `not`), write a Python script that checks if a \n",
    "number is positive and even.</mark>"
   ]
  },
  {
   "cell_type": "code",
   "execution_count": null,
   "id": "5058df92",
   "metadata": {},
   "outputs": [],
   "source": [
    "value = int(input(\"Enter any number\"))\n",
    "\n",
    "# Check if the value is positive and even\n",
    "if value > 0:            #Here we are checking value is greater than 0 than go to next condition \n",
    "    if value % 2 == 0:   #Here we are checking if value divided by 2 then and remainder equal to zero then go to next step \n",
    "        print(f\"{value} is positive and even.\")\n",
    "    else:\n",
    "        print(f\"{value} is positive but not even.\") # If above condition is not satisfield then print this statement\n",
    "else:\n",
    "    print(f\"{value} is not positive or value is zero.\") # If above two conditon not satisfield then print this statement"
   ]
  },
  {
   "cell_type": "markdown",
   "id": "17deaa2f",
   "metadata": {},
   "source": [
    "<mark> Q5)Type Casting in Python  \n",
    "a. What is type casting? Explain the difference between implicit and explicit type \n",
    "casting with examples. \n",
    "b. Write a Python script that: \n",
    "1. Converts a float to an integer. \n",
    "2. Converts an integer to a string. \n",
    "3. Converts a string to a float. "
   ]
  },
  {
   "cell_type": "raw",
   "id": "857d1bc4",
   "metadata": {},
   "source": [
    "Type Casting in Python\n",
    "Type Casting helps in converting value of one data type into another data type as per the user's will for the execution of program\n",
    "\n",
    "It can be Implicit or Explicit depending on whether the conversion is handled by Python itself or by the programmer"
   ]
  },
  {
   "cell_type": "code",
   "execution_count": null,
   "id": "25685935",
   "metadata": {},
   "outputs": [],
   "source": [
    "# Implicit type casting - Python automatically understnad datatype without using mention it like other language \n",
    "# When you perform operations between different types, Python will automatically convert one of the types to another as needed.\n",
    "num_int = 5        # int\n",
    "num_float = 3.0    # float\n",
    "\n",
    "# Python automatically converts the int to float during the operation\n",
    "result = num_int + num_float\n",
    "\n",
    "print(\"Result:\", result)          # Output - (float)\n",
    "print(\"Type of result:\", type(result))  # Output - <class 'float'"
   ]
  },
  {
   "cell_type": "code",
   "execution_count": null,
   "id": "1e9e6703",
   "metadata": {},
   "outputs": [],
   "source": [
    "# Explicit type casting - Using in built function str(),float(),int(),bool(),list(),dicitonary(),tuple() > Programmer can convert the datatype\n",
    "num1 = 5               # num1 is int datatypehere\n",
    "num2 = float(num1)     # Here we convert int datatype using inbuilt dataype-float()\n",
    "print(num1)            # O/P - 5(int)\n",
    "print(num2)            # O/P- 5.0(float)\n"
   ]
  },
  {
   "cell_type": "code",
   "execution_count": 16,
   "id": "81af5f38",
   "metadata": {},
   "outputs": [
    {
     "name": "stdout",
     "output_type": "stream",
     "text": [
      "5.0 We convert float to int: 5\n",
      "<class 'float'>\n",
      "<class 'int'>\n"
     ]
    }
   ],
   "source": [
    "# Write a Python script that:\n",
    "\n",
    "# 1)Converts a float to an integer.\n",
    "num3 = 5.0\n",
    "num4 = int(num3)        # here we convert float to int using inbuilt function int()\n",
    "print(num3,\"We convert float to int:\",num4) \n",
    "print(type(num3))\n",
    "print(type(num4))\n"
   ]
  },
  {
   "cell_type": "code",
   "execution_count": 23,
   "id": "4e167f55",
   "metadata": {},
   "outputs": [
    {
     "name": "stdout",
     "output_type": "stream",
     "text": [
      "5 We convert int to float: 5\n",
      "5\n",
      "<class 'int'>\n",
      "<class 'str'>\n"
     ]
    }
   ],
   "source": [
    "# 2)Converts an integer to a string.\n",
    "num5 = 5\n",
    "num6 = str(num5)                  # here we convert int to string using inbuilt function str()\n",
    "print(num5,\"We convert int to float:\",num6)\n",
    "print(type(num5))\n",
    "print(type(num6))"
   ]
  },
  {
   "cell_type": "code",
   "execution_count": 21,
   "id": "54c653fd",
   "metadata": {},
   "outputs": [
    {
     "name": "stdout",
     "output_type": "stream",
     "text": [
      "5 We convert string to float: 5.0\n",
      "<class 'str'>\n",
      "<class 'float'>\n"
     ]
    }
   ],
   "source": [
    "# 3)Converts a string to a float.\n",
    "num7 = \"5\"\n",
    "num8 = float(num7) \n",
    "print(num7,\"We convert string to float:\",num8) # here we convert string to float using inbuilt function float()\n",
    "print(type(num7))\n",
    "print(type(num8))"
   ]
  },
  {
   "cell_type": "markdown",
   "id": "f689ac27",
   "metadata": {},
   "source": [
    "6)Practical Exercise: Mini Calculator Write a Python script that asks the user to input two numbers and then:\n",
    "1-Adds the two numbers and prints the result.\n",
    "2-Subtracts the second number from the first and prints the result.\n",
    "3-Multiplies the two numbers and prints the result.\n",
    "4-Divides the first number by the second and prints the result (handle division by zero).\n",
    "5-Converts the sum of the numbers to a string and prints the type of the result."
   ]
  },
  {
   "cell_type": "code",
   "execution_count": 28,
   "id": "12a8f98a",
   "metadata": {},
   "outputs": [
    {
     "name": "stdout",
     "output_type": "stream",
     "text": [
      "Enter the first number: 15\n",
      "Enter the second number: 20\n",
      "Sum of 15.0 and 20.0 is: 35.0\n",
      "Difference when 20.0 is subtracted from 15.0 is: -5.0\n",
      "Product of 15.0 and 20.0 is: 300.0\n",
      "15.0 divided by 20.0 is: 0.75\n",
      "The sum converted to string is: 35.0\n",
      "The type of the sum after conversion is: <class 'str'>\n"
     ]
    }
   ],
   "source": [
    "# Mini Calculator Script\n",
    "\n",
    "# Asking user to input two numbers\n",
    "num1 = float(input(\"Enter the first number: \")) # Explicit convertion - If programmer enter any other data type it will convert it into float\n",
    "num2 = float(input(\"Enter the second number: \")) # Explicit convertion - If programmer enter any other data type it will convert it into float\n",
    "\n",
    "# Addition\n",
    "sum_result = num1 + num2                        # sum of two number \n",
    "print(f\"Sum of {num1} and {num2} is: {sum_result}\") \n",
    "\n",
    "# Subtraction                                   # Substraction of two number\n",
    "sub_result = num1 - num2\n",
    "print(f\"Difference when {num2} is subtracted from {num1} is: {sub_result}\")\n",
    "\n",
    "# Multiplication\n",
    "mul_result = num1 * num2                        # Multiplication of two number\n",
    "print(f\"Product of {num1} and {num2} is: {mul_result}\")\n",
    "\n",
    "# Division (Handling division by zero)\n",
    "if num2 != 0:                                   # If num2 is no tequal to 0 then \n",
    "    div_result = num1 / num2                    # we are dividing num1 by num2\n",
    "    print(f\"{num1} divided by {num2} is: {div_result}\") \n",
    "else:\n",
    "    print(\"Division by zero is not allowed!\")   # If num1 is equal to 0 then execute this condition\n",
    "\n",
    "# Converting the sum to a string and checking its type\n",
    "sum_str = str(sum_result)                       # Here we are converting sum(result)variable in above calculation we used that > we are converting value store in sum(result) into string\n",
    "print(f\"The sum converted to string is: {sum_str}\") # printing value store in sum_str\n",
    "print(f\"The type of the sum after conversion is: {type(sum_str)}\") # Checking data type\n"
   ]
  },
  {
   "cell_type": "code",
   "execution_count": null,
   "id": "48afed9d",
   "metadata": {},
   "outputs": [],
   "source": []
  },
  {
   "cell_type": "code",
   "execution_count": null,
   "id": "0d76cd09",
   "metadata": {},
   "outputs": [],
   "source": []
  }
 ],
 "metadata": {
  "kernelspec": {
   "display_name": "Python 3 (ipykernel)",
   "language": "python",
   "name": "python3"
  },
  "language_info": {
   "codemirror_mode": {
    "name": "ipython",
    "version": 3
   },
   "file_extension": ".py",
   "mimetype": "text/x-python",
   "name": "python",
   "nbconvert_exporter": "python",
   "pygments_lexer": "ipython3",
   "version": "3.11.4"
  }
 },
 "nbformat": 4,
 "nbformat_minor": 5
}
